{
 "cells": [
  {
   "cell_type": "code",
   "execution_count": 21,
   "id": "83a79f1f-6a5e-423c-8812-33f481c2df3c",
   "metadata": {},
   "outputs": [
    {
     "name": "stderr",
     "output_type": "stream",
     "text": [
      "[nltk_data] Downloading package stopwords to\n",
      "[nltk_data]     /Users/bilukhan/nltk_data...\n",
      "[nltk_data]   Package stopwords is already up-to-date!\n",
      "[nltk_data] Downloading package punkt to /Users/bilukhan/nltk_data...\n",
      "[nltk_data]   Package punkt is already up-to-date!\n"
     ]
    }
   ],
   "source": [
    "# Main plots\n",
    "import pandas as pd\n",
    "import numpy as np\n",
    "import seaborn as sns\n",
    "import matplotlib.pyplot as plt\n",
    "import importlib\n",
    "\n",
    "# Preprocessing and EDA\n",
    "import nltk\n",
    "from nltk.corpus import stopwords\n",
    "from nltk.util import ngrams\n",
    "from collections import Counter\n",
    "from sklearn.feature_extraction.text import TfidfVectorizer\n",
    "import string\n",
    "from methods import process_text, process_lemma_stemming, calculate_metrics, process_fasttext\n",
    "\n",
    "# Custom Ensemble\n",
    "from sklearn.linear_model import LogisticRegression\n",
    "from sklearn.metrics import f1_score, accuracy_score, confusion_matrix, ConfusionMatrixDisplay\n",
    "from sklearn.model_selection import train_test_split\n",
    "from sklearn.tree import DecisionTreeClassifier\n",
    "from sklearn.ensemble import StackingClassifier\n",
    "from tqdm import tqdm\n",
    "\n",
    "# BERT\n",
    "from transformers import AutoTokenizer, AutoModelForSequenceClassification, TrainingArguments, DataCollatorWithPadding, Trainer\n",
    "from transformers import BertTokenizer, BertForSequenceClassification\n",
    "from datasets import DatasetDict, Dataset\n",
    "import evaluate\n",
    "import torch\n",
    "\n",
    "# FASTTEXT\n",
    "import fasttext"
   ]
  },
  {
   "cell_type": "code",
   "execution_count": 49,
   "id": "e42c1e47-b7dd-40fe-8845-63bd953672bd",
   "metadata": {},
   "outputs": [
    {
     "name": "stdout",
     "output_type": "stream",
     "text": [
      "The autoreload extension is already loaded. To reload it, use:\n",
      "  %reload_ext autoreload\n"
     ]
    }
   ],
   "source": [
    "%load_ext autoreload\n",
    "%autoreload 2"
   ]
  },
  {
   "cell_type": "markdown",
   "id": "6173e83b-45e2-47ac-b57d-a855ea474c46",
   "metadata": {},
   "source": [
    "# Прочитаємо дані та переглянемо основну інформацію"
   ]
  },
  {
   "cell_type": "code",
   "execution_count": 24,
   "id": "6648916d-b675-4cb2-94a1-bdd8c49eb633",
   "metadata": {},
   "outputs": [],
   "source": [
    "df = pd.read_csv('fake_news_full_data.csv', index_col='Unnamed: 0')"
   ]
  },
  {
   "cell_type": "code",
   "execution_count": 25,
   "id": "d2ec6388-f34e-494c-9193-999bb0170f29",
   "metadata": {},
   "outputs": [
    {
     "data": {
      "text/html": [
       "<div>\n",
       "<style scoped>\n",
       "    .dataframe tbody tr th:only-of-type {\n",
       "        vertical-align: middle;\n",
       "    }\n",
       "\n",
       "    .dataframe tbody tr th {\n",
       "        vertical-align: top;\n",
       "    }\n",
       "\n",
       "    .dataframe thead th {\n",
       "        text-align: right;\n",
       "    }\n",
       "</style>\n",
       "<table border=\"1\" class=\"dataframe\">\n",
       "  <thead>\n",
       "    <tr style=\"text-align: right;\">\n",
       "      <th></th>\n",
       "      <th>title</th>\n",
       "      <th>text</th>\n",
       "      <th>date</th>\n",
       "      <th>is_fake</th>\n",
       "    </tr>\n",
       "  </thead>\n",
       "  <tbody>\n",
       "    <tr>\n",
       "      <th>0</th>\n",
       "      <td>Earthquake hits off Papua New Guinea</td>\n",
       "      <td>LONDON (Reuters) - A magnitude 5.9 earthquake ...</td>\n",
       "      <td>September 17, 2017</td>\n",
       "      <td>0</td>\n",
       "    </tr>\n",
       "    <tr>\n",
       "      <th>1</th>\n",
       "      <td>CINDY MCCAIN Reportedly Accepts Trump Administ...</td>\n",
       "      <td>The Hill released controversial comments sore ...</td>\n",
       "      <td>Jun 12, 2017</td>\n",
       "      <td>1</td>\n",
       "    </tr>\n",
       "    <tr>\n",
       "      <th>2</th>\n",
       "      <td>Prosecutors say ex-House Speaker Hastert sexua...</td>\n",
       "      <td>(Reuters) - Former U.S. House Speaker Dennis H...</td>\n",
       "      <td>April 9, 2016</td>\n",
       "      <td>0</td>\n",
       "    </tr>\n",
       "    <tr>\n",
       "      <th>3</th>\n",
       "      <td>Romanian protesters halt building of Xmas fair...</td>\n",
       "      <td>BUCHAREST (Reuters) - Romanian protesters clas...</td>\n",
       "      <td>December 2, 2017</td>\n",
       "      <td>0</td>\n",
       "    </tr>\n",
       "    <tr>\n",
       "      <th>4</th>\n",
       "      <td>Congo elected to U.N. rights council; Britain,...</td>\n",
       "      <td>UNITED NATIONS (Reuters) - Democratic Republic...</td>\n",
       "      <td>October 16, 2017</td>\n",
       "      <td>0</td>\n",
       "    </tr>\n",
       "  </tbody>\n",
       "</table>\n",
       "</div>"
      ],
      "text/plain": [
       "                                               title  \\\n",
       "0               Earthquake hits off Papua New Guinea   \n",
       "1  CINDY MCCAIN Reportedly Accepts Trump Administ...   \n",
       "2  Prosecutors say ex-House Speaker Hastert sexua...   \n",
       "3  Romanian protesters halt building of Xmas fair...   \n",
       "4  Congo elected to U.N. rights council; Britain,...   \n",
       "\n",
       "                                                text                 date  \\\n",
       "0  LONDON (Reuters) - A magnitude 5.9 earthquake ...  September 17, 2017    \n",
       "1  The Hill released controversial comments sore ...         Jun 12, 2017   \n",
       "2  (Reuters) - Former U.S. House Speaker Dennis H...       April 9, 2016    \n",
       "3  BUCHAREST (Reuters) - Romanian protesters clas...    December 2, 2017    \n",
       "4  UNITED NATIONS (Reuters) - Democratic Republic...    October 16, 2017    \n",
       "\n",
       "   is_fake  \n",
       "0        0  \n",
       "1        1  \n",
       "2        0  \n",
       "3        0  \n",
       "4        0  "
      ]
     },
     "execution_count": 25,
     "metadata": {},
     "output_type": "execute_result"
    }
   ],
   "source": [
    "df.head()"
   ]
  },
  {
   "cell_type": "code",
   "execution_count": 26,
   "id": "9f6fe289-d098-468c-92c6-3fa0b2e3984f",
   "metadata": {},
   "outputs": [
    {
     "data": {
      "text/plain": [
       "(44680, 4)"
      ]
     },
     "execution_count": 26,
     "metadata": {},
     "output_type": "execute_result"
    }
   ],
   "source": [
    "df.shape"
   ]
  },
  {
   "cell_type": "code",
   "execution_count": 27,
   "id": "3342f8f2-58a0-43c8-848d-54f9f0049b20",
   "metadata": {},
   "outputs": [
    {
     "data": {
      "text/plain": [
       "Index      357440\n",
       "title      357440\n",
       "text       357440\n",
       "date       357440\n",
       "is_fake    357440\n",
       "dtype: int64"
      ]
     },
     "execution_count": 27,
     "metadata": {},
     "output_type": "execute_result"
    }
   ],
   "source": [
    "df.memory_usage()"
   ]
  },
  {
   "cell_type": "code",
   "execution_count": 28,
   "id": "b938529a-0a6b-4ac5-a944-1a9661e5cb9d",
   "metadata": {},
   "outputs": [
    {
     "data": {
      "text/plain": [
       "title      object\n",
       "text       object\n",
       "date       object\n",
       "is_fake     int64\n",
       "dtype: object"
      ]
     },
     "execution_count": 28,
     "metadata": {},
     "output_type": "execute_result"
    }
   ],
   "source": [
    "df.dtypes"
   ]
  },
  {
   "cell_type": "code",
   "execution_count": 29,
   "id": "d1d5c143-b165-4b79-bba6-cfa6868e8d08",
   "metadata": {},
   "outputs": [
    {
     "data": {
      "text/plain": [
       "is_fake\n",
       "1    52.53\n",
       "0    47.47\n",
       "Name: proportion, dtype: float64"
      ]
     },
     "execution_count": 29,
     "metadata": {},
     "output_type": "execute_result"
    }
   ],
   "source": [
    "np.round(100 * df['is_fake'].value_counts(normalize=True), 2)"
   ]
  },
  {
   "cell_type": "code",
   "execution_count": 30,
   "id": "a93f379e-2121-435b-a8b6-7c221ae84028",
   "metadata": {},
   "outputs": [
    {
     "data": {
      "image/png": "[encoded data removed]",
      "text/plain": [
       "<Figure size 640x480 with 1 Axes>"
      ]
     },
     "metadata": {},
     "output_type": "display_data"
    }
   ],
   "source": [
    "sns.barplot(df['is_fake'].value_counts().reset_index(), hue='is_fake', y='count', palette=\"viridis\")\n",
    "plt.show()"
   ]
  },
  {
   "cell_type": "markdown",
   "id": "a3c3ce29-3993-4bab-a82c-508ccab1d3f6",
   "metadata": {},
   "source": [
    "Бачимо що розподіл за класами приблизно однаковий, на 2.5% більше все таки фейкових новин. Далі здійснимо препроцесинг поля date, перетворимо в числовий формат"
   ]
  },
  {
   "cell_type": "code",
   "execution_count": 31,
   "id": "bd2c6233-ef2d-433f-b455-d9464667cbea",
   "metadata": {},
   "outputs": [
    {
     "data": {
      "text/plain": [
       "0    September 17, 2017 \n",
       "1           Jun 12, 2017\n",
       "2         April 9, 2016 \n",
       "3      December 2, 2017 \n",
       "4      October 16, 2017 \n",
       "5       November 2, 2017\n",
       "6           Jul 28, 2015\n",
       "7        August 24, 2017\n",
       "8           Jul 28, 2017\n",
       "9       October 9, 2017 \n",
       "Name: date, dtype: object"
      ]
     },
     "execution_count": 31,
     "metadata": {},
     "output_type": "execute_result"
    }
   ],
   "source": [
    "df.iloc[:10]['date']"
   ]
  },
  {
   "cell_type": "markdown",
   "id": "c037bc00-cb26-4b81-8130-c9138f4f0b80",
   "metadata": {},
   "source": [
    "Дата представлена в наступному форматі: `month day year`"
   ]
  },
  {
   "cell_type": "code",
   "execution_count": 32,
   "id": "5b469ddf-b85c-4ae6-b330-13d5c3cb2f1c",
   "metadata": {},
   "outputs": [],
   "source": [
    "df['date_changed'] = pd.to_datetime(df['date'].str.strip(), format='mixed', errors='coerce')"
   ]
  },
  {
   "cell_type": "markdown",
   "id": "1590657c-71b6-4906-b027-2fc3926e6877",
   "metadata": {},
   "source": [
    "1 запис має зіпсований формат, видалимо його"
   ]
  },
  {
   "cell_type": "code",
   "execution_count": 33,
   "id": "edc263bc-aba9-4153-935a-ac6aa9eb032a",
   "metadata": {},
   "outputs": [
    {
     "data": {
      "text/html": [
       "<div>\n",
       "<style scoped>\n",
       "    .dataframe tbody tr th:only-of-type {\n",
       "        vertical-align: middle;\n",
       "    }\n",
       "\n",
       "    .dataframe tbody tr th {\n",
       "        vertical-align: top;\n",
       "    }\n",
       "\n",
       "    .dataframe thead th {\n",
       "        text-align: right;\n",
       "    }\n",
       "</style>\n",
       "<table border=\"1\" class=\"dataframe\">\n",
       "  <thead>\n",
       "    <tr style=\"text-align: right;\">\n",
       "      <th></th>\n",
       "      <th>title</th>\n",
       "      <th>text</th>\n",
       "      <th>date</th>\n",
       "      <th>is_fake</th>\n",
       "      <th>date_changed</th>\n",
       "    </tr>\n",
       "  </thead>\n",
       "  <tbody>\n",
       "    <tr>\n",
       "      <th>15914</th>\n",
       "      <td>Homepage</td>\n",
       "      <td>[vc_row][vc_column width= 1/1 ][td_block_trend...</td>\n",
       "      <td>MSNBC HOST Rudely Assumes Steel Worker Would N...</td>\n",
       "      <td>1</td>\n",
       "      <td>NaT</td>\n",
       "    </tr>\n",
       "  </tbody>\n",
       "</table>\n",
       "</div>"
      ],
      "text/plain": [
       "          title                                               text  \\\n",
       "15914  Homepage  [vc_row][vc_column width= 1/1 ][td_block_trend...   \n",
       "\n",
       "                                                    date  is_fake date_changed  \n",
       "15914  MSNBC HOST Rudely Assumes Steel Worker Would N...        1          NaT  "
      ]
     },
     "execution_count": 33,
     "metadata": {},
     "output_type": "execute_result"
    }
   ],
   "source": [
    "df[df['date_changed'].isna()]"
   ]
  },
  {
   "cell_type": "code",
   "execution_count": 34,
   "id": "e901126c-0b82-4378-8a3f-bb9a2519436d",
   "metadata": {
    "scrolled": true
   },
   "outputs": [],
   "source": [
    "df.dropna(inplace=True)\n",
    "df.drop(columns='date', inplace=True)"
   ]
  },
  {
   "cell_type": "code",
   "execution_count": 35,
   "id": "d688bf38-8296-4019-980d-d782e4faff26",
   "metadata": {},
   "outputs": [
    {
     "data": {
      "text/html": [
       "<div>\n",
       "<style scoped>\n",
       "    .dataframe tbody tr th:only-of-type {\n",
       "        vertical-align: middle;\n",
       "    }\n",
       "\n",
       "    .dataframe tbody tr th {\n",
       "        vertical-align: top;\n",
       "    }\n",
       "\n",
       "    .dataframe thead th {\n",
       "        text-align: right;\n",
       "    }\n",
       "</style>\n",
       "<table border=\"1\" class=\"dataframe\">\n",
       "  <thead>\n",
       "    <tr style=\"text-align: right;\">\n",
       "      <th></th>\n",
       "      <th>title</th>\n",
       "      <th>text</th>\n",
       "      <th>is_fake</th>\n",
       "      <th>date_changed</th>\n",
       "    </tr>\n",
       "  </thead>\n",
       "  <tbody>\n",
       "    <tr>\n",
       "      <th>0</th>\n",
       "      <td>Earthquake hits off Papua New Guinea</td>\n",
       "      <td>LONDON (Reuters) - A magnitude 5.9 earthquake ...</td>\n",
       "      <td>0</td>\n",
       "      <td>2017-09-17</td>\n",
       "    </tr>\n",
       "    <tr>\n",
       "      <th>1</th>\n",
       "      <td>CINDY MCCAIN Reportedly Accepts Trump Administ...</td>\n",
       "      <td>The Hill released controversial comments sore ...</td>\n",
       "      <td>1</td>\n",
       "      <td>2017-06-12</td>\n",
       "    </tr>\n",
       "    <tr>\n",
       "      <th>2</th>\n",
       "      <td>Prosecutors say ex-House Speaker Hastert sexua...</td>\n",
       "      <td>(Reuters) - Former U.S. House Speaker Dennis H...</td>\n",
       "      <td>0</td>\n",
       "      <td>2016-04-09</td>\n",
       "    </tr>\n",
       "    <tr>\n",
       "      <th>3</th>\n",
       "      <td>Romanian protesters halt building of Xmas fair...</td>\n",
       "      <td>BUCHAREST (Reuters) - Romanian protesters clas...</td>\n",
       "      <td>0</td>\n",
       "      <td>2017-12-02</td>\n",
       "    </tr>\n",
       "    <tr>\n",
       "      <th>4</th>\n",
       "      <td>Congo elected to U.N. rights council; Britain,...</td>\n",
       "      <td>UNITED NATIONS (Reuters) - Democratic Republic...</td>\n",
       "      <td>0</td>\n",
       "      <td>2017-10-16</td>\n",
       "    </tr>\n",
       "    <tr>\n",
       "      <th>...</th>\n",
       "      <td>...</td>\n",
       "      <td>...</td>\n",
       "      <td>...</td>\n",
       "      <td>...</td>\n",
       "    </tr>\n",
       "    <tr>\n",
       "      <th>44675</th>\n",
       "      <td>In new blow to campaign, Trump's foundation or...</td>\n",
       "      <td>WASHINGTON (Reuters) - New York’s attorney gen...</td>\n",
       "      <td>0</td>\n",
       "      <td>2016-10-03</td>\n",
       "    </tr>\n",
       "    <tr>\n",
       "      <th>44676</th>\n",
       "      <td>MICHELLE OBAMA’S Middle East Speech: Compares ...</td>\n",
       "      <td>Michelle Obama received $70 million dollars fr...</td>\n",
       "      <td>1</td>\n",
       "      <td>2015-11-06</td>\n",
       "    </tr>\n",
       "    <tr>\n",
       "      <th>44677</th>\n",
       "      <td>LEFTY COMMUNIST Calls Trump-Supporting High Sc...</td>\n",
       "      <td>If you haven t discovered Austen Fletcher yet,...</td>\n",
       "      <td>1</td>\n",
       "      <td>2017-11-03</td>\n",
       "    </tr>\n",
       "    <tr>\n",
       "      <th>44678</th>\n",
       "      <td>SWISS ARMY CHIEF WARNS CITIZENS About Explosiv...</td>\n",
       "      <td>Wouldn t it be great if we had someone in gove...</td>\n",
       "      <td>1</td>\n",
       "      <td>2015-12-31</td>\n",
       "    </tr>\n",
       "    <tr>\n",
       "      <th>44679</th>\n",
       "      <td>This Cartoon CRUSHES Every Single Talking Poi...</td>\n",
       "      <td>Americans have a right to defend themselves. ...</td>\n",
       "      <td>1</td>\n",
       "      <td>2016-06-13</td>\n",
       "    </tr>\n",
       "  </tbody>\n",
       "</table>\n",
       "<p>44679 rows × 4 columns</p>\n",
       "</div>"
      ],
      "text/plain": [
       "                                                   title  \\\n",
       "0                   Earthquake hits off Papua New Guinea   \n",
       "1      CINDY MCCAIN Reportedly Accepts Trump Administ...   \n",
       "2      Prosecutors say ex-House Speaker Hastert sexua...   \n",
       "3      Romanian protesters halt building of Xmas fair...   \n",
       "4      Congo elected to U.N. rights council; Britain,...   \n",
       "...                                                  ...   \n",
       "44675  In new blow to campaign, Trump's foundation or...   \n",
       "44676  MICHELLE OBAMA’S Middle East Speech: Compares ...   \n",
       "44677  LEFTY COMMUNIST Calls Trump-Supporting High Sc...   \n",
       "44678  SWISS ARMY CHIEF WARNS CITIZENS About Explosiv...   \n",
       "44679   This Cartoon CRUSHES Every Single Talking Poi...   \n",
       "\n",
       "                                                    text  is_fake date_changed  \n",
       "0      LONDON (Reuters) - A magnitude 5.9 earthquake ...        0   2017-09-17  \n",
       "1      The Hill released controversial comments sore ...        1   2017-06-12  \n",
       "2      (Reuters) - Former U.S. House Speaker Dennis H...        0   2016-04-09  \n",
       "3      BUCHAREST (Reuters) - Romanian protesters clas...        0   2017-12-02  \n",
       "4      UNITED NATIONS (Reuters) - Democratic Republic...        0   2017-10-16  \n",
       "...                                                  ...      ...          ...  \n",
       "44675  WASHINGTON (Reuters) - New York’s attorney gen...        0   2016-10-03  \n",
       "44676  Michelle Obama received $70 million dollars fr...        1   2015-11-06  \n",
       "44677  If you haven t discovered Austen Fletcher yet,...        1   2017-11-03  \n",
       "44678  Wouldn t it be great if we had someone in gove...        1   2015-12-31  \n",
       "44679   Americans have a right to defend themselves. ...        1   2016-06-13  \n",
       "\n",
       "[44679 rows x 4 columns]"
      ]
     },
     "execution_count": 35,
     "metadata": {},
     "output_type": "execute_result"
    }
   ],
   "source": [
    "df"
   ]
  },
  {
   "cell_type": "markdown",
   "id": "dab1f838-7adc-4f51-a944-5cc6caeef11b",
   "metadata": {},
   "source": [
    "#### Здійснюємо обробку тексту, стеммінг, лематизація, видалення спецсимволів. Порахуємо частоту входжень слів"
   ]
  },
  {
   "cell_type": "code",
   "execution_count": 37,
   "id": "3e5a0c70-69f1-4f30-bc7d-77be031601d6",
   "metadata": {
    "scrolled": true
   },
   "outputs": [],
   "source": [
    "df['word_list'] = df['text'].apply(lambda x: process_text(x))\n",
    "\n",
    "word_counter = Counter()\n",
    "\n",
    "for word_list in df['word_list']:\n",
    "    word_counter.update(word_list)"
   ]
  },
  {
   "cell_type": "code",
   "execution_count": 38,
   "id": "14b01014-7f72-4c44-b90d-f3dc42f6c7a9",
   "metadata": {},
   "outputs": [
    {
     "name": "stdout",
     "output_type": "stream",
     "text": [
      "Кількість унікальних слів складає: 121310\n",
      "Топ 20 слів покривають 8.15% усього набору даних\n"
     ]
    }
   ],
   "source": [
    "print(\"Кількість унікальних слів складає: {}\".format(len(word_counter)))\n",
    "print(f\"Топ 20 слів покривають {round(100 * sum([value for key, value in word_counter.most_common(20)]) / sum(list(word_counter.values())), 2)}% усього набору даних\")"
   ]
  },
  {
   "cell_type": "markdown",
   "id": "3c21f853-01d6-4aba-bbd1-50101c1fb965",
   "metadata": {},
   "source": [
    "Топ 20 найпопулярніших слів"
   ]
  },
  {
   "cell_type": "code",
   "execution_count": 39,
   "id": "07740ee2-9eae-4eca-8623-0c4d71d1da41",
   "metadata": {},
   "outputs": [
    {
     "data": {
      "text/html": [
       "<div>\n",
       "<style scoped>\n",
       "    .dataframe tbody tr th:only-of-type {\n",
       "        vertical-align: middle;\n",
       "    }\n",
       "\n",
       "    .dataframe tbody tr th {\n",
       "        vertical-align: top;\n",
       "    }\n",
       "\n",
       "    .dataframe thead th {\n",
       "        text-align: right;\n",
       "    }\n",
       "</style>\n",
       "<table border=\"1\" class=\"dataframe\">\n",
       "  <thead>\n",
       "    <tr style=\"text-align: right;\">\n",
       "      <th></th>\n",
       "      <th>words</th>\n",
       "      <th>counts</th>\n",
       "      <th>%</th>\n",
       "    </tr>\n",
       "  </thead>\n",
       "  <tbody>\n",
       "    <tr>\n",
       "      <th>47</th>\n",
       "      <td>trump</td>\n",
       "      <td>133449</td>\n",
       "      <td>1.250331</td>\n",
       "    </tr>\n",
       "    <tr>\n",
       "      <th>19</th>\n",
       "      <td>said</td>\n",
       "      <td>131629</td>\n",
       "      <td>1.233278</td>\n",
       "    </tr>\n",
       "    <tr>\n",
       "      <th>54</th>\n",
       "      <td>president</td>\n",
       "      <td>55594</td>\n",
       "      <td>0.520880</td>\n",
       "    </tr>\n",
       "    <tr>\n",
       "      <th>110</th>\n",
       "      <td>would</td>\n",
       "      <td>54810</td>\n",
       "      <td>0.513534</td>\n",
       "    </tr>\n",
       "    <tr>\n",
       "      <th>122</th>\n",
       "      <td>u</td>\n",
       "      <td>53752</td>\n",
       "      <td>0.503621</td>\n",
       "    </tr>\n",
       "    <tr>\n",
       "      <th>604</th>\n",
       "      <td>people</td>\n",
       "      <td>41659</td>\n",
       "      <td>0.390318</td>\n",
       "    </tr>\n",
       "    <tr>\n",
       "      <th>136</th>\n",
       "      <td>one</td>\n",
       "      <td>37777</td>\n",
       "      <td>0.353946</td>\n",
       "    </tr>\n",
       "    <tr>\n",
       "      <th>130</th>\n",
       "      <td>state</td>\n",
       "      <td>34273</td>\n",
       "      <td>0.321116</td>\n",
       "    </tr>\n",
       "    <tr>\n",
       "      <th>70</th>\n",
       "      <td>also</td>\n",
       "      <td>31157</td>\n",
       "      <td>0.291921</td>\n",
       "    </tr>\n",
       "    <tr>\n",
       "      <th>8</th>\n",
       "      <td>new</td>\n",
       "      <td>31152</td>\n",
       "      <td>0.291874</td>\n",
       "    </tr>\n",
       "    <tr>\n",
       "      <th>697</th>\n",
       "      <td>clinton</td>\n",
       "      <td>28633</td>\n",
       "      <td>0.268273</td>\n",
       "    </tr>\n",
       "    <tr>\n",
       "      <th>57</th>\n",
       "      <td>obama</td>\n",
       "      <td>28127</td>\n",
       "      <td>0.263532</td>\n",
       "    </tr>\n",
       "    <tr>\n",
       "      <th>79</th>\n",
       "      <td>donald</td>\n",
       "      <td>28063</td>\n",
       "      <td>0.262932</td>\n",
       "    </tr>\n",
       "    <tr>\n",
       "      <th>214</th>\n",
       "      <td>government</td>\n",
       "      <td>27753</td>\n",
       "      <td>0.260028</td>\n",
       "    </tr>\n",
       "    <tr>\n",
       "      <th>138</th>\n",
       "      <td>house</td>\n",
       "      <td>27605</td>\n",
       "      <td>0.258641</td>\n",
       "    </tr>\n",
       "    <tr>\n",
       "      <th>437</th>\n",
       "      <td>states</td>\n",
       "      <td>26614</td>\n",
       "      <td>0.249356</td>\n",
       "    </tr>\n",
       "    <tr>\n",
       "      <th>223</th>\n",
       "      <td>republican</td>\n",
       "      <td>25474</td>\n",
       "      <td>0.238675</td>\n",
       "    </tr>\n",
       "    <tr>\n",
       "      <th>165</th>\n",
       "      <td>year</td>\n",
       "      <td>24820</td>\n",
       "      <td>0.232547</td>\n",
       "    </tr>\n",
       "    <tr>\n",
       "      <th>420</th>\n",
       "      <td>could</td>\n",
       "      <td>23784</td>\n",
       "      <td>0.222841</td>\n",
       "    </tr>\n",
       "    <tr>\n",
       "      <th>425</th>\n",
       "      <td>united</td>\n",
       "      <td>23378</td>\n",
       "      <td>0.219037</td>\n",
       "    </tr>\n",
       "  </tbody>\n",
       "</table>\n",
       "</div>"
      ],
      "text/plain": [
       "          words  counts         %\n",
       "47        trump  133449  1.250331\n",
       "19         said  131629  1.233278\n",
       "54    president   55594  0.520880\n",
       "110       would   54810  0.513534\n",
       "122           u   53752  0.503621\n",
       "604      people   41659  0.390318\n",
       "136         one   37777  0.353946\n",
       "130       state   34273  0.321116\n",
       "70         also   31157  0.291921\n",
       "8           new   31152  0.291874\n",
       "697     clinton   28633  0.268273\n",
       "57        obama   28127  0.263532\n",
       "79       donald   28063  0.262932\n",
       "214  government   27753  0.260028\n",
       "138       house   27605  0.258641\n",
       "437      states   26614  0.249356\n",
       "223  republican   25474  0.238675\n",
       "165        year   24820  0.232547\n",
       "420       could   23784  0.222841\n",
       "425      united   23378  0.219037"
      ]
     },
     "execution_count": 39,
     "metadata": {},
     "output_type": "execute_result"
    }
   ],
   "source": [
    "count_words_df = pd.DataFrame({\"words\": word_counter.keys(),\n",
    "                               \"counts\": word_counter.values()\n",
    "                              }).sort_values(by='counts', ascending=False)\n",
    "count_words_df['%'] = 100 * count_words_df['counts'] / sum(count_words_df['counts'].values)\n",
    "\n",
    "count_words_df[:20]"
   ]
  },
  {
   "cell_type": "markdown",
   "id": "35b8b79f-6805-441e-96bf-d8d3ceb6c4b0",
   "metadata": {},
   "source": [
    "Додатково переглянемо слова з найбільшою частотою та переглянемо розподіл за таргетом"
   ]
  },
  {
   "cell_type": "code",
   "execution_count": 40,
   "id": "2c3c84a1-7167-402c-ad7e-2057b29da2f1",
   "metadata": {},
   "outputs": [
    {
     "data": {
      "image/png": "[encoded data removed]",
      "text/plain": [
       "<Figure size 1000x600 with 1 Axes>"
      ]
     },
     "metadata": {},
     "output_type": "display_data"
    }
   ],
   "source": [
    "words = list([key for key, value in word_counter.most_common(10)])\n",
    "\n",
    "counts = {}\n",
    "\n",
    "for word in words:\n",
    "    mask = df['text'].str.lower().str.contains(word)\n",
    "    counts[word] = df[mask].groupby('is_fake').size()\n",
    "\n",
    "df_counts = pd.DataFrame(counts).fillna(0).astype(int)\n",
    "df_counts = df_counts.T\n",
    "\n",
    "df_counts.plot(kind='bar', figsize=(10,6))\n",
    "\n",
    "plt.title(\"Frequency of words by target\")\n",
    "plt.legend(title=\"Target\")\n",
    "plt.grid(axis='y', linestyle='--', alpha=0.7)\n",
    "plt.show()"
   ]
  },
  {
   "cell_type": "markdown",
   "id": "5973559a-f52e-456f-8e6c-4217c080644a",
   "metadata": {},
   "source": [
    "Цікаво, що такі слова як `trump`, `people` мають явну схильність до вживань у фейкових новинах, в той час, як `said` використовуються в справжніх новинах. Припускаю, що словом `trump` та `people` кореспонденти спекулюють оскільки це гаряча тема в суспільстві, а слово `said` частіше використовується коли намагаються когось цитувати, а це легше відслідкувати та перевірити в інфопросторі"
   ]
  },
  {
   "cell_type": "code",
   "execution_count": 41,
   "id": "ef3dde73-cc12-49e9-b1b6-f74b5805bdec",
   "metadata": {},
   "outputs": [],
   "source": [
    "df['text_length'] = df['text'].apply(lambda x: len(x))"
   ]
  },
  {
   "cell_type": "code",
   "execution_count": 42,
   "id": "eda3e146-cb37-482b-884a-44397250c252",
   "metadata": {},
   "outputs": [
    {
     "data": {
      "image/png": "[encoded data removed]",
      "text/plain": [
       "<Figure size 1000x400 with 1 Axes>"
      ]
     },
     "metadata": {},
     "output_type": "display_data"
    }
   ],
   "source": [
    "fig = plt.figure(figsize=(10,4))\n",
    "\n",
    "sns.histplot(df, x='text_length', hue='is_fake')\n",
    "\n",
    "plt.title(\"Розподіл по довжині символів за таргетом\")\n",
    "plt.show()"
   ]
  },
  {
   "cell_type": "markdown",
   "id": "77ac0fd6-cc9a-41e7-afe3-204aedbc5b74",
   "metadata": {
    "scrolled": true
   },
   "source": [
    "Обмежимо графік до 10000 символів у тексті"
   ]
  },
  {
   "cell_type": "code",
   "execution_count": 43,
   "id": "c159ae1e-8252-4a2e-8b44-41001a5b99f3",
   "metadata": {},
   "outputs": [
    {
     "data": {
      "image/png": "[encoded data removed]",
      "text/plain": [
       "<Figure size 1000x400 with 1 Axes>"
      ]
     },
     "metadata": {},
     "output_type": "display_data"
    }
   ],
   "source": [
    "fig = plt.figure(figsize=(10,4))\n",
    "\n",
    "sns.histplot(df, x='text_length', hue='is_fake')\n",
    "\n",
    "plt.xlim(0, 10000)\n",
    "plt.title(\"Розподіл по довжині символів за таргетом\")\n",
    "plt.show()"
   ]
  },
  {
   "cell_type": "markdown",
   "id": "865b92e2-4711-4685-90b9-9626848cdbd2",
   "metadata": {},
   "source": [
    "З даної діаграми видно, що новини, які мають приблизно до 100 символів - фейкові. Також кількість новин від 1500 до 2200 символів показують більшу залежність. В той час новини від від 100 символів до 800 символів в більшості реальні."
   ]
  },
  {
   "cell_type": "code",
   "execution_count": 44,
   "id": "39c062c7-f950-494c-86a7-76ae32e73680",
   "metadata": {},
   "outputs": [
    {
     "data": {
      "text/html": [
       "<div>\n",
       "<style scoped>\n",
       "    .dataframe tbody tr th:only-of-type {\n",
       "        vertical-align: middle;\n",
       "    }\n",
       "\n",
       "    .dataframe tbody tr th {\n",
       "        vertical-align: top;\n",
       "    }\n",
       "\n",
       "    .dataframe thead th {\n",
       "        text-align: right;\n",
       "    }\n",
       "</style>\n",
       "<table border=\"1\" class=\"dataframe\">\n",
       "  <thead>\n",
       "    <tr style=\"text-align: right;\">\n",
       "      <th></th>\n",
       "      <th>title</th>\n",
       "      <th>text</th>\n",
       "      <th>is_fake</th>\n",
       "      <th>date_changed</th>\n",
       "      <th>word_list</th>\n",
       "      <th>text_length</th>\n",
       "    </tr>\n",
       "  </thead>\n",
       "  <tbody>\n",
       "    <tr>\n",
       "      <th>0</th>\n",
       "      <td>Earthquake hits off Papua New Guinea</td>\n",
       "      <td>LONDON (Reuters) - A magnitude 5.9 earthquake ...</td>\n",
       "      <td>0</td>\n",
       "      <td>2017-09-17</td>\n",
       "      <td>[london, magnitude, 5, 9, earthquake, hit, coa...</td>\n",
       "      <td>305</td>\n",
       "    </tr>\n",
       "    <tr>\n",
       "      <th>1</th>\n",
       "      <td>CINDY MCCAIN Reportedly Accepts Trump Administ...</td>\n",
       "      <td>The Hill released controversial comments sore ...</td>\n",
       "      <td>1</td>\n",
       "      <td>2017-06-12</td>\n",
       "      <td>[hill, released, controversial, comments, sore...</td>\n",
       "      <td>1859</td>\n",
       "    </tr>\n",
       "    <tr>\n",
       "      <th>2</th>\n",
       "      <td>Prosecutors say ex-House Speaker Hastert sexua...</td>\n",
       "      <td>(Reuters) - Former U.S. House Speaker Dennis H...</td>\n",
       "      <td>0</td>\n",
       "      <td>2016-04-09</td>\n",
       "      <td>[former, u, house, speaker, dennis, hastert, c...</td>\n",
       "      <td>1995</td>\n",
       "    </tr>\n",
       "    <tr>\n",
       "      <th>3</th>\n",
       "      <td>Romanian protesters halt building of Xmas fair...</td>\n",
       "      <td>BUCHAREST (Reuters) - Romanian protesters clas...</td>\n",
       "      <td>0</td>\n",
       "      <td>2017-12-02</td>\n",
       "      <td>[bucharest, romanian, protesters, clashed, rio...</td>\n",
       "      <td>2082</td>\n",
       "    </tr>\n",
       "    <tr>\n",
       "      <th>4</th>\n",
       "      <td>Congo elected to U.N. rights council; Britain,...</td>\n",
       "      <td>UNITED NATIONS (Reuters) - Democratic Republic...</td>\n",
       "      <td>0</td>\n",
       "      <td>2017-10-16</td>\n",
       "      <td>[united, nations, democratic, republic, congo,...</td>\n",
       "      <td>2513</td>\n",
       "    </tr>\n",
       "  </tbody>\n",
       "</table>\n",
       "</div>"
      ],
      "text/plain": [
       "                                               title  \\\n",
       "0               Earthquake hits off Papua New Guinea   \n",
       "1  CINDY MCCAIN Reportedly Accepts Trump Administ...   \n",
       "2  Prosecutors say ex-House Speaker Hastert sexua...   \n",
       "3  Romanian protesters halt building of Xmas fair...   \n",
       "4  Congo elected to U.N. rights council; Britain,...   \n",
       "\n",
       "                                                text  is_fake date_changed  \\\n",
       "0  LONDON (Reuters) - A magnitude 5.9 earthquake ...        0   2017-09-17   \n",
       "1  The Hill released controversial comments sore ...        1   2017-06-12   \n",
       "2  (Reuters) - Former U.S. House Speaker Dennis H...        0   2016-04-09   \n",
       "3  BUCHAREST (Reuters) - Romanian protesters clas...        0   2017-12-02   \n",
       "4  UNITED NATIONS (Reuters) - Democratic Republic...        0   2017-10-16   \n",
       "\n",
       "                                           word_list  text_length  \n",
       "0  [london, magnitude, 5, 9, earthquake, hit, coa...          305  \n",
       "1  [hill, released, controversial, comments, sore...         1859  \n",
       "2  [former, u, house, speaker, dennis, hastert, c...         1995  \n",
       "3  [bucharest, romanian, protesters, clashed, rio...         2082  \n",
       "4  [united, nations, democratic, republic, congo,...         2513  "
      ]
     },
     "execution_count": 44,
     "metadata": {},
     "output_type": "execute_result"
    }
   ],
   "source": [
    "df.head()"
   ]
  },
  {
   "cell_type": "code",
   "execution_count": 45,
   "id": "19803d2e-e613-4cf5-b280-ff01db2780d9",
   "metadata": {},
   "outputs": [
    {
     "data": {
      "text/plain": [
       "['london',\n",
       " 'magnitude',\n",
       " '5',\n",
       " '9',\n",
       " 'earthquake',\n",
       " 'hit',\n",
       " 'coast',\n",
       " 'papua',\n",
       " 'new',\n",
       " 'guinea']"
      ]
     },
     "execution_count": 45,
     "metadata": {},
     "output_type": "execute_result"
    }
   ],
   "source": [
    "df.iloc[0]['word_list'][:10]"
   ]
  },
  {
   "cell_type": "markdown",
   "id": "237c310b-2b2f-4e78-9aeb-e2fe3f8d6dde",
   "metadata": {},
   "source": [
    "Здійснюємо TF-IDF трансформації для перетворення тексту в список та застосуємо стеммінг та лематизацію перед TF-IDF"
   ]
  },
  {
   "cell_type": "code",
   "execution_count": 48,
   "id": "20b6815f-5191-4412-9513-04f98b1411d1",
   "metadata": {},
   "outputs": [
    {
     "name": "stderr",
     "output_type": "stream",
     "text": [
      "[nltk_data] Downloading package stopwords to\n",
      "[nltk_data]     /Users/bilukhan/nltk_data...\n",
      "[nltk_data]   Package stopwords is already up-to-date!\n",
      "[nltk_data] Downloading package punkt to /Users/bilukhan/nltk_data...\n",
      "[nltk_data]   Package punkt is already up-to-date!\n"
     ]
    }
   ],
   "source": [
    "tfidf_vectorizer = TfidfVectorizer(ngram_range=(1, 2), max_features=5000, min_df=5)"
   ]
  },
  {
   "cell_type": "code",
   "execution_count": 50,
   "id": "e9479c9e-8358-4374-9dfd-03dcd3851391",
   "metadata": {},
   "outputs": [
    {
     "name": "stderr",
     "output_type": "stream",
     "text": [
      "[nltk_data] Downloading package stopwords to\n",
      "[nltk_data]     /Users/bilukhan/nltk_data...\n",
      "[nltk_data]   Package stopwords is already up-to-date!\n",
      "[nltk_data] Downloading package punkt to /Users/bilukhan/nltk_data...\n",
      "[nltk_data]   Package punkt is already up-to-date!\n"
     ]
    }
   ],
   "source": [
    "df['word_list'] = [process_lemma_stemming(sentence) for sentence in df['word_list']]"
   ]
  },
  {
   "cell_type": "code",
   "execution_count": 51,
   "id": "bfe57b7d-c0ba-4b41-b5e8-e115d9c053a4",
   "metadata": {},
   "outputs": [],
   "source": [
    "X = tfidf_vectorizer.fit_transform([' '.join(sentence) for sentence in df['word_list']])"
   ]
  },
  {
   "cell_type": "markdown",
   "id": "808b2195-c696-48b3-b0c9-998c9b6f6ede",
   "metadata": {
    "scrolled": true
   },
   "source": [
    "# Ансамбль моделей Logistic Regressin vs Decision Tree Classifier"
   ]
  },
  {
   "cell_type": "code",
   "execution_count": 52,
   "id": "9c411760-985d-468e-9f4b-93a52631e98c",
   "metadata": {},
   "outputs": [],
   "source": [
    "X_train, X_val, y_train, y_val = train_test_split(X, df['is_fake'], test_size=0.25, random_state=42)\n",
    "\n",
    "estimators = [\n",
    "    ('decision_tree', DecisionTreeClassifier(\n",
    "                        criterion='gini',     \n",
    "                        max_depth=7,          \n",
    "                        min_samples_split=10, \n",
    "                        min_samples_leaf=5,   \n",
    "                        random_state=42           \n",
    "                    )),\n",
    "    ('logreg', LogisticRegression(solver='liblinear'))\n",
    "    ]\n",
    "\n",
    "clf = StackingClassifier(\n",
    "    estimators=estimators, final_estimator=LogisticRegression()\n",
    ")\n",
    "\n",
    "clf.fit(X_train, y_train)\n",
    "val_predictions = clf.predict(X_val)\n",
    "train_predictions = clf.predict(X_train)"
   ]
  },
  {
   "cell_type": "code",
   "execution_count": 53,
   "id": "7b8f3379-f1e2-4b12-9767-2ca396a95a05",
   "metadata": {},
   "outputs": [
    {
     "name": "stdout",
     "output_type": "stream",
     "text": [
      "Train Accuracy: 98.73%\n",
      "Train F1 score: 98.79%\n",
      "Validation Accuracy: 98.17%\n",
      "Validation F1 score: 98.26%\n"
     ]
    }
   ],
   "source": [
    "print(\"Train Accuracy: {:.2f}%\".format(100 * accuracy_score(y_train, train_predictions)))\n",
    "print(\"Train F1 score: {:.2f}%\".format(100 * f1_score(y_train, train_predictions)))\n",
    "\n",
    "print(\"Validation Accuracy: {:.2f}%\".format(100 * accuracy_score(y_val, val_predictions)))\n",
    "print(\"Validation F1 score: {:.2f}%\".format(100 * f1_score(y_val, val_predictions)))"
   ]
  },
  {
   "cell_type": "code",
   "execution_count": 54,
   "id": "439dd1f4-6728-4e00-9d89-b0e709b57766",
   "metadata": {},
   "outputs": [
    {
     "data": {
      "image/png": "[encoded data removed]",
      "text/plain": [
       "<Figure size 640x480 with 2 Axes>"
      ]
     },
     "metadata": {},
     "output_type": "display_data"
    }
   ],
   "source": [
    "cm = confusion_matrix(y_val, val_predictions, normalize='true')\n",
    "\n",
    "disp = ConfusionMatrixDisplay(confusion_matrix=cm, display_labels=['Real', 'Fake'])\n",
    "disp.plot(cmap='Blues')\n",
    "plt.title('Confusion Matrix')\n",
    "plt.show()"
   ]
  },
  {
   "cell_type": "markdown",
   "id": "56f12887-bc1f-4dab-9662-d360509ffdc7",
   "metadata": {},
   "source": [
    "# Bert"
   ]
  },
  {
   "cell_type": "code",
   "execution_count": 55,
   "id": "91ced9e9-70e2-48bb-b434-34f15131edd6",
   "metadata": {},
   "outputs": [],
   "source": [
    "X_train, X_val, y_train, y_val = train_test_split(df['text'], df['is_fake'], random_state=42, test_size=0.2)\n",
    "\n",
    "dataset = DatasetDict({\n",
    "    \"train\": Dataset.from_dict({\"text\": X_train, \"labels\": y_train}),\n",
    "    \"val\": Dataset.from_dict({\"text\": X_val, \"labels\": y_val})\n",
    "})"
   ]
  },
  {
   "cell_type": "code",
   "execution_count": 56,
   "id": "11192d50-bbdd-4b0f-b20b-b611c1db0dc3",
   "metadata": {},
   "outputs": [
    {
     "name": "stderr",
     "output_type": "stream",
     "text": [
      "/Users/bilukhan/Library/Python/3.12/lib/python/site-packages/huggingface_hub/file_download.py:896: FutureWarning: `resume_download` is deprecated and will be removed in version 1.0.0. Downloads always resume when possible. If you want to force a new download, use `force_download=True`.\n",
      "  warnings.warn(\n",
      "Some weights of BertForSequenceClassification were not initialized from the model checkpoint at google-bert/bert-base-uncased and are newly initialized: ['classifier.bias', 'classifier.weight']\n",
      "You should probably TRAIN this model on a down-stream task to be able to use it for predictions and inference.\n"
     ]
    }
   ],
   "source": [
    "model_path = \"google-bert/bert-base-uncased\"\n",
    "tokenizer = AutoTokenizer.from_pretrained(model_path)\n",
    "\n",
    "id2label = {0: \"Not Fake\", 1: \"Fake\"}\n",
    "label2id = {\"Not Fake\": 0, \"Fake\": 1}\n",
    "\n",
    "model = AutoModelForSequenceClassification.from_pretrained(model_path,\n",
    "                                                           num_labels=2,\n",
    "                                                           id2label=id2label,\n",
    "                                                           label2id=label2id)"
   ]
  },
  {
   "cell_type": "code",
   "execution_count": 57,
   "id": "a864b9c8-c251-4a21-b651-156f02a4d0df",
   "metadata": {},
   "outputs": [],
   "source": [
    "# розморожуємо останні шари для файн тюнингу\n",
    "for name, param in model.base_model.named_parameters():\n",
    "    param.requires_grad = False\n",
    "\n",
    "for name, param in model.base_model.named_parameters():\n",
    "    if \"pooler\" in name:\n",
    "        param.requires_grad = True"
   ]
  },
  {
   "cell_type": "code",
   "execution_count": 58,
   "id": "0c6e4b92-96a2-4001-847f-4ace9ac5b39f",
   "metadata": {},
   "outputs": [
    {
     "data": {
      "application/vnd.jupyter.widget-view+json": {
       "model_id": "8d592cbebe594bda8c2c5e4fafba8982",
       "version_major": 2,
       "version_minor": 0
      },
      "text/plain": [
       "Map:   0%|          | 0/35743 [00:00<?, ? examples/s]"
      ]
     },
     "metadata": {},
     "output_type": "display_data"
    },
    {
     "data": {
      "application/vnd.jupyter.widget-view+json": {
       "model_id": "e2d2aea8a0b341a89e903a5ab49fb6ed",
       "version_major": 2,
       "version_minor": 0
      },
      "text/plain": [
       "Map:   0%|          | 0/8936 [00:00<?, ? examples/s]"
      ]
     },
     "metadata": {},
     "output_type": "display_data"
    }
   ],
   "source": [
    "# токенізуємо текст\n",
    "def preprocess_function(examples):\n",
    "    return tokenizer(examples[\"text\"], truncation=True)\n",
    "\n",
    "# Токенізуємо весь датасет\n",
    "tokenized_data = dataset.map(preprocess_function, batched=True)\n",
    "\n",
    "# додаємо падінги до батчів\n",
    "data_collator = DataCollatorWithPadding(tokenizer=tokenizer)"
   ]
  },
  {
   "cell_type": "code",
   "execution_count": 59,
   "id": "3f313f33-a09a-40e4-9cc8-04c995631dab",
   "metadata": {
    "scrolled": true
   },
   "outputs": [],
   "source": [
    "# hyperparameters\n",
    "lr = 2e-4\n",
    "batch_size = 8\n",
    "num_epochs = 10\n",
    "\n",
    "training_args = TrainingArguments(\n",
    "    output_dir=\"fake-news-classifier\",\n",
    "    learning_rate=lr,\n",
    "    per_device_train_batch_size=batch_size,\n",
    "    per_device_eval_batch_size=batch_size,\n",
    "    num_train_epochs=num_epochs,\n",
    "    logging_strategy=\"epoch\",\n",
    "    evaluation_strategy=\"epoch\",\n",
    "    save_strategy=\"epoch\",\n",
    "    load_best_model_at_end=True,\n",
    ")"
   ]
  },
  {
   "cell_type": "code",
   "execution_count": 44,
   "id": "ce6490bf-7c11-4347-b658-e2d656cb8fe7",
   "metadata": {},
   "outputs": [],
   "source": [
    "trainer = Trainer(\n",
    "    model=model,\n",
    "    args=training_args,\n",
    "    train_dataset=tokenized_data[\"train\"],\n",
    "    eval_dataset=tokenized_data[\"val\"],\n",
    "    tokenizer=tokenizer,\n",
    "    data_collator=data_collator,\n",
    "    compute_metrics=calculate_metrics,\n",
    ")\n",
    "\n",
    "trainer.train()"
   ]
  },
  {
   "cell_type": "markdown",
   "id": "bb6d805d-c3d2-480c-9d4e-0fe8d147b7e4",
   "metadata": {},
   "source": [
    "Тренування було запущене на GPU (NVIDIA A10 G) з 26GB пам'яті та зайняло близько 2-х годин. Завантажили дані в проект та працюємо вже з натренованою моделлю."
   ]
  },
  {
   "cell_type": "code",
   "execution_count": 60,
   "id": "8986cab1-94e9-425c-937f-108346c2b8c0",
   "metadata": {},
   "outputs": [],
   "source": [
    "checkpoint_path = 'fake-news-classifier'\n",
    "\n",
    "tokenizer = BertTokenizer.from_pretrained(checkpoint_path)\n",
    "model = BertForSequenceClassification.from_pretrained(checkpoint_path)"
   ]
  },
  {
   "cell_type": "markdown",
   "id": "4e29b9f6-2413-46c1-8357-9fb305037e31",
   "metadata": {},
   "source": [
    "Перевіримо роботу моделі на 1 тестовому прикладі"
   ]
  },
  {
   "cell_type": "code",
   "execution_count": 61,
   "id": "62944df8-0d02-47bc-a7d3-86993cec9ca3",
   "metadata": {},
   "outputs": [
    {
     "name": "stdout",
     "output_type": "stream",
     "text": [
      "Text: We mentioned in an article yesterday that the real objective behind this recount effort is probably not to find voter fraud, but to strip Trump of the electoral votes in the traditionally blue, must-win states of PA, WI, and MI. If these state are in the process of a recount effort, Trump cannot use their electoral votes in the final tally. A Republican majority Congress would then have to vote to allow Trump to use the votes. The hope is likely that this action would throw Trump s presidency into question with voters, thus setting him up as an illegitimate President in the minds of American citizens. The good news is, the possiblity of a recount in the state of Pennsylvania with 20 electoral votes, is not looking too good for Hillary right now Jill Stein s Hillary Clinton s effort to recount presidential votes in three swing states already appears to be sputtering in Philadelphia.While Stein, a former presidential candidate, has raised millions of dollars and filed for a recount in Wisconsin, the process in Pennsylvania is much more complicated. Candidates cannot file for a recount themselves. Instead, they either have to go to court and attempt to prove widespread voter fraud (there s no evidence of that at this point) or organize a voter-initiated recount effort.Stein s team is going for the latter, asking for thousands of volunteers across Pennsylvania to mobilize. For a voting division   also known as a precinct   to be recounted, three voters from that division must sign and file an affidavit.As of noon Monday, the Philadelphia city Board of Elections had received petitions for 35 of the 1,686 voting divisions in Philadelphia, according to City Commissioner Al Schmidt. He s spoken with organizers who expect another 15 to be filed. That means that only about 50 of the 1,686 voting divisions in Philadelphia, or about 3 percent, would be recounted as a part of Stein s effort.Stein needed more than 5,000 people in Philadelphia alone to sign petitions to file for a recount and would have had to mobilize about 30,000 people statewide to get a full recount going in Pennsylvania. She contends that though her campaign is targeting recounts in Wisconsin, Pennsylvania and Michigan, it is not coordinating with the campaign of Hillary Clinton, who lost all three of those states to President-elect Donald Trump. The Green Party candidate has so far raised nearly $7 million to spearhead the recount.Wanda Murren, a spokeswoman for the Pennsylvania Department of State, said in a statement Monday afternoon that the state is  working to gather information from the 67 counties regarding their progress in certifying election returns.  She said some counties have already certified their elections, therefore closing the five-day window to petition at the county level for a recount.The deadline for voters to file for a recount is the end of the day today.Meanwhile, officials in Allegheny County have said they will delay certifying their election results as activists are filing petitions seeking a recount.   BillyPenn\n",
      "Real label: 1\n",
      "Preicted label: Fake\n"
     ]
    }
   ],
   "source": [
    "inputs = tokenizer(df.iloc[21492]['text'], truncation=True, return_tensors=\"pt\")\n",
    "outputs = model(**inputs)\n",
    "logits = outputs.logits\n",
    "\n",
    "print(\"Text: {}\".format(df.iloc[21492]['text']))\n",
    "print(\"Real label: {}\".format(df.iloc[21492]['is_fake']))\n",
    "print(\"Preicted label:\", id2label.get(np.argmax(logits.detach().numpy())))"
   ]
  },
  {
   "cell_type": "markdown",
   "id": "97a1377b-46be-40c5-a4c2-6ae9bc2c7821",
   "metadata": {},
   "source": [
    "Бачимо що модель працює, запускаємо предикт на усіх даних для оцінки"
   ]
  },
  {
   "cell_type": "code",
   "execution_count": 64,
   "id": "0e33fda1-49ad-4843-b319-69b7dfa2c7b2",
   "metadata": {},
   "outputs": [
    {
     "name": "stderr",
     "output_type": "stream",
     "text": [
      "\n",
      "00%|█████████████████████████████████████████████| 3/3 [00:00<00:00,  6.77it/s]"
     ]
    }
   ],
   "source": [
    "y_train = dataset['train']['labels']\n",
    "train_predictions = []\n",
    "\n",
    "for i in tqdm(range(dataset['train'].shape[0])):\n",
    "    inputs = tokenizer(dataset['train'][i]['text'], truncation=True, return_tensors=\"pt\")\n",
    "    outputs = model(**inputs)\n",
    "    train_predictions.append(np.argmax(outputs.logits.detach().numpy()))"
   ]
  },
  {
   "cell_type": "code",
   "execution_count": 66,
   "id": "0556f4a7-a350-4a1e-821d-688ac79a0ba2",
   "metadata": {},
   "outputs": [
    {
     "name": "stderr",
     "output_type": "stream",
     "text": [
      "\n",
      "00%|█████████████████████████████████████████████| 8/8 [00:01<00:00,  7.74it/s]"
     ]
    }
   ],
   "source": [
    "y_val = dataset['val']['labels']\n",
    "val_predictions = []\n",
    "\n",
    "for i in tqdm(range(dataset['val'].shape[0])):\n",
    "    inputs = tokenizer(dataset['val'][i]['text'], truncation=True, return_tensors=\"pt\")\n",
    "    outputs = model(**inputs)\n",
    "    val_predictions.append(np.argmax(outputs.logits.detach().numpy()))"
   ]
  },
  {
   "cell_type": "code",
   "execution_count": 93,
   "id": "4006d504-ae31-4451-950c-0768646077a3",
   "metadata": {},
   "outputs": [
    {
     "name": "stdout",
     "output_type": "stream",
     "text": [
      "Train Accuracy: 99.33%\n",
      "Train F1 score: 99.36%\n",
      "Validation Accuracy: 99.33%\n",
      "Validation F1 score: 99.36%\n"
     ]
    }
   ],
   "source": [
    "print(\"Train Accuracy: {:.2f}%\".format(100 * accuracy_score(y_train, train_predictions)))\n",
    "print(\"Train F1 score: {:.2f}%\".format(100 * f1_score(y_train, train_predictions)))\n",
    "\n",
    "print(\"Validation Accuracy: {:.2f}%\".format(100 * accuracy_score(y_val, val_predictions)))\n",
    "print(\"Validation F1 score: {:.2f}%\".format(100 * f1_score(y_val, val_predictions)))"
   ]
  },
  {
   "cell_type": "code",
   "execution_count": 94,
   "id": "7390ac42-b476-4b2f-9918-26ed8ae31980",
   "metadata": {},
   "outputs": [
    {
     "data": {
      "image/png": "[encoded data removed]",
      "text/plain": [
       "<Figure size 640x480 with 2 Axes>"
      ]
     },
     "metadata": {},
     "output_type": "display_data"
    }
   ],
   "source": [
    "cm = confusion_matrix(y_val, val_predictions, normalize='true')\n",
    "\n",
    "disp = ConfusionMatrixDisplay(confusion_matrix=cm, display_labels=['Real', 'Fake'])\n",
    "disp.plot(cmap='Blues')\n",
    "plt.title('Confusion Matrix')\n",
    "plt.show()"
   ]
  },
  {
   "cell_type": "markdown",
   "id": "06aff55f-72be-4c77-96fd-2cbde137661e",
   "metadata": {},
   "source": [
    "Файнтюнений BERT показав кращі результати, F1 score вищий на 1% за метрику ансамблю"
   ]
  },
  {
   "cell_type": "markdown",
   "id": "73bbcb1b-d150-47c8-bdc6-f635cacb0081",
   "metadata": {},
   "source": [
    "# Fast Text"
   ]
  },
  {
   "cell_type": "markdown",
   "id": "cf83e348-ebe9-4c44-a38a-a4a25bd3b09e",
   "metadata": {},
   "source": [
    "Напишемо функцію для формування 2-х наборів даних для входу моделі. Структура файлів наступна:\n",
    "* **__label__FAKE fake news text**\n",
    "* **__label__NOT_FAKE true news text**"
   ]
  },
  {
   "cell_type": "code",
   "execution_count": 87,
   "id": "b47da16f-6ca2-468c-8f10-5b1b5469879e",
   "metadata": {},
   "outputs": [],
   "source": [
    "train_df, val_df = train_test_split(df, test_size=0.2)"
   ]
  },
  {
   "cell_type": "code",
   "execution_count": 88,
   "id": "41295356-f7f7-4974-b02a-735b651e6887",
   "metadata": {},
   "outputs": [],
   "source": [
    "process_fasttext(train_df['text'], train_df['is_fake'], \"train\")\n",
    "process_fasttext(val_df['text'], val_df['is_fake'], \"val\")"
   ]
  },
  {
   "cell_type": "markdown",
   "id": "c00f90db-df8c-47b0-b911-e63c1dad93ef",
   "metadata": {},
   "source": [
    "Тренуємо fasttext модель"
   ]
  },
  {
   "cell_type": "code",
   "execution_count": 89,
   "id": "9c43b7ea-9159-4f4c-b419-49bad49ba908",
   "metadata": {},
   "outputs": [
    {
     "name": "stderr",
     "output_type": "stream",
     "text": [
      "Read 14M words\n",
      "Number of words:  357035\n",
      "Number of labels: 2\n",
      "Progress: 100.0% words/sec/thread: 3063019 lr:  0.000000 avg.loss:  0.011930 ETA:   0h 0m 0s\n"
     ]
    }
   ],
   "source": [
    "model = fasttext.train_supervised(input=\"fast-text/train.txt\", epoch=50, lr=1.0, wordNgrams=2, verbose=2)"
   ]
  },
  {
   "cell_type": "code",
   "execution_count": 116,
   "id": "da0ebd74-c97b-4019-8da0-c761d06baf9f",
   "metadata": {},
   "outputs": [],
   "source": [
    "y_train = train_df['is_fake']\n",
    "train_predictions = []\n",
    "\n",
    "for text in train_df['text']:\n",
    "    train_predictions.append(1 if model.predict(text)[0][0] == '__label__FAKE' else 0)\n",
    "    \n",
    "y_val = val_df['is_fake']\n",
    "val_predictions = []\n",
    "\n",
    "for text in val_df['text']:\n",
    "    val_predictions.append(1 if model.predict(text)[0][0] == '__label__FAKE' else 0)"
   ]
  },
  {
   "cell_type": "code",
   "execution_count": 117,
   "id": "2c4081a5-8566-4589-aebd-8632a60b36be",
   "metadata": {},
   "outputs": [
    {
     "name": "stdout",
     "output_type": "stream",
     "text": [
      "Train Accuracy: 99.99%\n",
      "Train F1 score: 99.99%\n",
      "Validation Accuracy: 99.87%\n",
      "Validation F1 score: 99.87%\n"
     ]
    }
   ],
   "source": [
    "print(\"Train Accuracy: {:.2f}%\".format(100 * accuracy_score(y_train, train_predictions)))\n",
    "print(\"Train F1 score: {:.2f}%\".format(100 * f1_score(y_train, train_predictions)))\n",
    "\n",
    "print(\"Validation Accuracy: {:.2f}%\".format(100 * accuracy_score(y_val, val_predictions)))\n",
    "print(\"Validation F1 score: {:.2f}%\".format(100 * f1_score(y_val, val_predictions)))"
   ]
  },
  {
   "cell_type": "code",
   "execution_count": 118,
   "id": "692eed78-1e3d-4fab-93e8-bf9f95321122",
   "metadata": {},
   "outputs": [
    {
     "data": {
      "image/png": "[encoded data removed]",
      "text/plain": [
       "<Figure size 640x480 with 2 Axes>"
      ]
     },
     "metadata": {},
     "output_type": "display_data"
    }
   ],
   "source": [
    "cm = confusion_matrix(y_val, val_predictions, normalize='true')\n",
    "\n",
    "disp = ConfusionMatrixDisplay(confusion_matrix=cm, display_labels=['Real', 'Fake'])\n",
    "disp.plot(cmap='Blues')\n",
    "plt.title('Confusion Matrix')\n",
    "plt.show()"
   ]
  },
  {
   "cell_type": "code",
   "execution_count": 120,
   "id": "665bbd6f-fc8e-44cc-a624-ed88e22b1a1f",
   "metadata": {},
   "outputs": [
    {
     "name": "stdout",
     "output_type": "stream",
     "text": [
      "News text: ISLAMABAD (Reuters) - A Pakistani court issued an arrest warrant for ousted Prime Minister Nawaz Sharif after he failed to appear before the court over anti-corruption allegations, local media said on Thursday, but he can avoid arrest by paying bail. In Pakistan,  bailable arrest warrants  often act as a warning to deter absences from court, but a judge can later issue non-bailable warrants that are more serious and could see Sharif arrested when he returns to Pakistan. Sharif missed the hearing as he is undertaking a religious pilgrimage in Saudi Arabia, Dawn and other English-language newspapers reported. Sharif had spent previous weeks tending to his wife in London, where she is receiving cancer treatment. Sharif faces three separate corruption charges from the National Accountability Bureau (NAB), an anti-corruption body which has its own courts. Sharif s two sons and his daughter Maryam, who is viewed as Sharif s heir-apparent, are also facing NAB trials. Sharif, 67, resigned in July after the Supreme Court disqualified him from holding office over an undeclared source of income, but the veteran leader maintains his grip on the ruling Pakistan Muslim League-Nawaz (PML-N) party. The Sharifs have called the corruption proceedings against them a conspiracy, hinting at intervention by the powerful military, but opponents have hailed it as a rare example of the rich and powerful being held accountable. The army denies playing a role.  We are going through a time in Pakistan where speaking up against injustice is called contempt of court and speaking up for the nation is called treason, but I still believe that we will be victorious,  Maryam said outside the court, according to Dawn newspaper. Sharif had a representative in court. Sharif s disqualification stemmed from the Panama Papers leaks in 2016 that appeared to show that his daughter and two sons owned offshore holding companies registered in the British Virgin Islands and used them to buy flats in London. The NAB court charges against Sharif relate to the ownership of London apartments, as well as establishment of two large-scale factory businesses in Saudi Arabia. Sharifs deny any wrongdoing on all charges. \n",
      "Actual label:  0\n",
      "Predicted label:  ('__label__NOT_FAKE',)\n"
     ]
    }
   ],
   "source": [
    "print(\"News text: {}\".format(df.iloc[1255]['text']))\n",
    "print(\"Actual label: \", df.iloc[1255]['is_fake'])\n",
    "print(\"Predicted label: \", model.predict(df.iloc[1255]['text'])[0])"
   ]
  },
  {
   "cell_type": "markdown",
   "id": "b5f792a7-adf8-4364-b515-d0216efb1673",
   "metadata": {},
   "source": [
    "Отже, FastText справився найкраще з задачею класифікації фейкових новин, проте метрики показують, що BERT дав не набагато гірші результати, лише **0.5-0.6%** що є мізер в поєднанні з кастомним ансамблем"
   ]
  },
  {
   "cell_type": "code",
   "execution_count": null,
   "id": "89f7571e-dae6-43e3-936a-c6b8786f0cce",
   "metadata": {},
   "outputs": [],
   "source": []
  }
 ],
 "metadata": {
  "kernelspec": {
   "display_name": "Python 3 (ipykernel)",
   "language": "python",
   "name": "python3"
  },
  "language_info": {
   "codemirror_mode": {
    "name": "ipython",
    "version": 3
   },
   "file_extension": ".py",
   "mimetype": "text/x-python",
   "name": "python",
   "nbconvert_exporter": "python",
   "pygments_lexer": "ipython3",
   "version": "3.12.0"
  }
 },
 "nbformat": 4,
 "nbformat_minor": 5
}
